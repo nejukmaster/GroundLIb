{
  "nbformat": 4,
  "nbformat_minor": 0,
  "metadata": {
    "colab": {
      "name": "CheckPBModelInputandOutput.ipynb",
      "provenance": [],
      "collapsed_sections": [],
      "authorship_tag": "ABX9TyNkNHBgNFCFtWQR7boeG+Yp",
      "include_colab_link": true
    },
    "kernelspec": {
      "name": "python3",
      "display_name": "Python 3"
    }
  },
  "cells": [
    {
      "cell_type": "markdown",
      "metadata": {
        "id": "view-in-github",
        "colab_type": "text"
      },
      "source": [
        "<a href=\"https://colab.research.google.com/github/nejukmaster/GroundLIb/blob/main/GroundLib-python/CheckPBModelInputandOutput.ipynb\" target=\"_parent\"><img src=\"https://colab.research.google.com/assets/colab-badge.svg\" alt=\"Open In Colab\"/></a>"
      ]
    },
    {
      "cell_type": "code",
      "metadata": {
        "id": "3Rr9SFeWNAok"
      },
      "source": [
        "from google.colab import drive\n",
        "drive.mount('/gdrive', force_remount=True)"
      ],
      "execution_count": null,
      "outputs": []
    },
    {
      "cell_type": "code",
      "metadata": {
        "id": "iyOOBuEQM4eV"
      },
      "source": [
        "!saved_model_cli show --dir \"/gdrive/My Drive/Colab Notebooks/models\" --tag_set serve --signature_def serving_default"
      ],
      "execution_count": null,
      "outputs": []
    }
  ]
}