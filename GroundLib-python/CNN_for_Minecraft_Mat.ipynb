{
  "nbformat": 4,
  "nbformat_minor": 0,
  "metadata": {
    "colab": {
      "name": "CNN for Minecraft Mat.ipynb",
      "provenance": [],
      "collapsed_sections": [],
      "include_colab_link": true
    },
    "kernelspec": {
      "name": "python3",
      "display_name": "Python 3"
    },
    "language_info": {
      "name": "python"
    },
    "accelerator": "GPU"
  },
  "cells": [
    {
      "cell_type": "markdown",
      "metadata": {
        "id": "view-in-github",
        "colab_type": "text"
      },
      "source": [
        "<a href=\"https://colab.research.google.com/github/nejukmaster/GroundLIb/blob/main/GroundLib-python/CNN_for_Minecraft_Mat.ipynb\" target=\"_parent\"><img src=\"https://colab.research.google.com/assets/colab-badge.svg\" alt=\"Open In Colab\"/></a>"
      ]
    },
    {
      "cell_type": "markdown",
      "metadata": {
        "id": "Ts00xaS7fmlA"
      },
      "source": [
        "Generate CNN model for minecraft using .sample file can be extracted with GroundLib Java Plugin in Minecraft"
      ]
    },
    {
      "cell_type": "code",
      "metadata": {
        "id": "pNlvnN4xGYAn"
      },
      "source": [
        "from tensorflow import keras\n",
        "from sklearn.model_selection import train_test_split"
      ],
      "execution_count": null,
      "outputs": []
    },
    {
      "cell_type": "code",
      "metadata": {
        "id": "r1_RzvsKGiP8"
      },
      "source": [
        "model = keras.Sequential()"
      ],
      "execution_count": null,
      "outputs": []
    },
    {
      "cell_type": "code",
      "metadata": {
        "id": "MZWKlb9CGwL9"
      },
      "source": [
        "conv3D = keras.layers.Conv3D(32,kernel_size=(3,3,4),activation='relu',padding='same', input_shape = (20,20,80,1), kernel_initializer='he_uniform')\n",
        "pool3D = keras.layers.MaxPooling3D(2)\n",
        "model.add(conv3D)\n",
        "model.add(pool3D)"
      ],
      "execution_count": null,
      "outputs": []
    },
    {
      "cell_type": "code",
      "metadata": {
        "id": "xdgqPc9uLLFo"
      },
      "source": [
        "conv3D = keras.layers.Conv3D(32,kernel_size=(2,2,4),activation='relu',padding='same', kernel_initializer='he_uniform')\n",
        "pool3D = keras.layers.MaxPooling3D(2)\n",
        "model.add(conv3D)\n",
        "model.add(pool3D)"
      ],
      "execution_count": null,
      "outputs": []
    },
    {
      "cell_type": "code",
      "metadata": {
        "id": "Mf6CuXp3MYc4"
      },
      "source": [
        "flatten = keras.layers.Flatten()\n",
        "dense1 = keras.layers.Dense(200,activation='relu')\n",
        "dropout1 = keras.layers.Dropout(0.1)\n",
        "dense2 = keras.layers.Dense(100,activation='relu')\n",
        "dropout2 = keras.layers.Dropout(0.4)\n",
        "model.add(flatten)\n",
        "model.add(dense1)\n",
        "model.add(dropout1)\n",
        "model.add(dense2)\n",
        "model.add(dropout2)"
      ],
      "execution_count": null,
      "outputs": []
    },
    {
      "cell_type": "code",
      "metadata": {
        "id": "4kevYLk2NMiz"
      },
      "source": [
        "output = keras.layers.Dense(1,activation='sigmoid')\n",
        "model.add(output)"
      ],
      "execution_count": null,
      "outputs": []
    },
    {
      "cell_type": "code",
      "metadata": {
        "id": "mMwrzdrBNf84"
      },
      "source": [
        "model.summary()"
      ],
      "execution_count": null,
      "outputs": []
    },
    {
      "cell_type": "code",
      "metadata": {
        "id": "Xk15J8pvt4US"
      },
      "source": [
        "from google.colab import drive\n",
        "drive.mount('/gdrive', force_remount=True)"
      ],
      "execution_count": null,
      "outputs": []
    },
    {
      "cell_type": "code",
      "metadata": {
        "id": "mSlLEA_cuUib"
      },
      "source": [
        "import glob\n",
        " \n",
        "path_dir = '/gdrive/My Drive/samples/*'\n",
        " \n",
        "file_list = glob.glob(path_dir)\n",
        "samples = []\n",
        "samples_path = []\n",
        "for f in file_list:\n",
        "  list = glob.glob(f+\"/*\")\n",
        "  samples+=list\n",
        "print(samples)"
      ],
      "execution_count": null,
      "outputs": []
    },
    {
      "cell_type": "code",
      "metadata": {
        "id": "3M6IsEWuwDs3"
      },
      "source": [
        "#reading test\n",
        "f = open(samples[0], 'r')\n",
        "print(f.read())"
      ],
      "execution_count": null,
      "outputs": []
    },
    {
      "cell_type": "code",
      "metadata": {
        "id": "NJn4-noi4pay"
      },
      "source": [
        "arr = []\n",
        "for s in samples:\n",
        "  f = open(s,'r')\n",
        "  arr.append(f.read())\n",
        "print(len(arr))"
      ],
      "execution_count": null,
      "outputs": []
    },
    {
      "cell_type": "code",
      "metadata": {
        "id": "vBRpEG8B6OdR"
      },
      "source": [
        "arr2 = []\n",
        "for s in arr:\n",
        "  arr2.append(s.split(\"/\"))"
      ],
      "execution_count": null,
      "outputs": []
    },
    {
      "cell_type": "code",
      "metadata": {
        "id": "mvBirjgX7na4"
      },
      "source": [
        "import numpy as np\n",
        "\n",
        "inputs = np.zeros((200,20,20,80))\n",
        "targets = np.zeros((200,))\n",
        "for s in arr2:\n",
        "  _l = np.zeros((20,20,80))\n",
        "  for i in range(0,80):\n",
        "    _s = s[i].split(\":\")\n",
        "    del _s[len(_s)-1]\n",
        "    for j in range(0,20):\n",
        "      for k in range(0,20):\n",
        "        _l[k][j][i] = int(s[i].split(\":\")[k+j*20])\n",
        "  inputs[arr2.index(s)] = _l"
      ],
      "execution_count": null,
      "outputs": []
    },
    {
      "cell_type": "code",
      "metadata": {
        "id": "DfCKswCPDAzf"
      },
      "source": [
        "for i in range(0,len(arr2)):\n",
        "  targets[i] = int(arr2[i][80])\n",
        "print(targets)"
      ],
      "execution_count": null,
      "outputs": []
    },
    {
      "cell_type": "code",
      "metadata": {
        "id": "AFz7qsXjCe-3"
      },
      "source": [
        "from sklearn.model_selection import train_test_split\n",
        "\n",
        "train_scaled = inputs/255.0\n",
        "train_scaled = train_scaled.reshape(200,20,20,80,1)\n",
        "targets = targets.reshape(-1,1)\n",
        "train_scaled, val_scaled, train_target, val_target = train_test_split(train_scaled, targets, test_size=0.2)"
      ],
      "execution_count": null,
      "outputs": []
    },
    {
      "cell_type": "code",
      "metadata": {
        "id": "pC3ETb-kEKcB"
      },
      "source": [
        "print(train_scaled.shape)\n",
        "print(train_target.shape)"
      ],
      "execution_count": null,
      "outputs": []
    },
    {
      "cell_type": "code",
      "metadata": {
        "id": "VyDKpJnvOPWd"
      },
      "source": [
        "model.compile(optimizer='adam', loss='binary_crossentropy', metrics='accuracy')\n",
        "\n",
        "checkpoint_cb = keras.callbacks.ModelCheckpoint('best-cnn-model.h5')\n",
        "early_stopping_cb = keras.callbacks.EarlyStopping(patience=2,\n",
        "                                                  restore_best_weights=True)\n",
        "\n",
        "history = model.fit(train_scaled, train_target, epochs=20,\n",
        "                    validation_data=(val_scaled, val_target),\n",
        "                    callbacks=[checkpoint_cb, early_stopping_cb])"
      ],
      "execution_count": null,
      "outputs": []
    },
    {
      "cell_type": "code",
      "metadata": {
        "id": "9iO6X7fZGuAD"
      },
      "source": [
        "import matplotlib.pyplot as plt\n",
        "\n",
        "plt.plot(history.history['loss'])\n",
        "plt.xlabel('epoch')\n",
        "plt.ylabel('loss')\n",
        "plt.savefig('7_3-01', dpi=300)\n",
        "plt.show()"
      ],
      "execution_count": null,
      "outputs": []
    },
    {
      "cell_type": "code",
      "metadata": {
        "id": "L4nQucoQG4Oy"
      },
      "source": [
        "model.evaluate(val_scaled, val_target)"
      ],
      "execution_count": null,
      "outputs": []
    },
    {
      "cell_type": "code",
      "metadata": {
        "id": "DdAHSkQBHEId"
      },
      "source": [
        "#test\n",
        "print(val_scaled[0].shape)\n",
        "_i = val_scaled[0].reshape(1,20,20,80,1)\n",
        "print(model.predict(_i))\n",
        "print(val_target[0])"
      ],
      "execution_count": null,
      "outputs": []
    }
  ]
}